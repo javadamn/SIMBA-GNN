{
 "cells": [
  {
   "cell_type": "code",
   "execution_count": 2,
   "id": "e2af9d54-feb2-4908-be3b-99fd4fe3f84a",
   "metadata": {},
   "outputs": [],
   "source": [
    "import cobra\n",
    "import requests\n",
    "from Bio import SeqIO\n",
    "import pandas as pd\n",
    "import re"
   ]
  },
  {
   "cell_type": "code",
   "execution_count": null,
   "id": "0157781e-0b19-4d79-9310-80863f38010e",
   "metadata": {},
   "outputs": [],
   "source": [
    "\n",
    "def fetch_pr(taxon_id, reviewed=False, format='fasta', limit=1000):\n",
    "    base_url = \"https://rest.uniprot.org/uniprotkb/stream\"\n",
    "    query = f\"organism_id:{taxon_id}\"\n",
    "    if reviewed:\n",
    "        query += \" AND reviewed:true\"\n",
    "\n",
    "    params = {\"query\": query, \"format\": format, \"size\": limit}\n",
    "\n",
    "    response = requests.get(base_url, params=params)\n",
    "    if response.status_code == 200:\n",
    "        with open(f\"/home/aac/Mohammad/GNN/MetaBiomeX-main/data/fastas/uniprot_{taxon_id}.fasta\", \"w\") as f:\n",
    "            f.write(response.text)\n",
    "        return response.text \n",
    "    else:\n",
    "        return None"
   ]
  },
  {
   "cell_type": "code",
   "execution_count": null,
   "id": "8e092243-2192-44d2-83eb-3ccdd1c87a62",
   "metadata": {},
   "outputs": [],
   "source": [
    "models_list= pd.read_csv('/home/aac/Mohammad/GNN/MetaBiomeX-main/data/ListofModelsforSpecies.csv')"
   ]
  },
  {
   "cell_type": "code",
   "execution_count": null,
   "id": "66eb200d-f9af-4bc5-88ba-e6f8197ec49b",
   "metadata": {
    "scrolled": true
   },
   "outputs": [],
   "source": [
    "xml_files = []\n",
    "\n",
    "for entry in models_list['models'].dropna():\n",
    "    found = re.findall(r'\\b[\\w\\-\\.]+\\.xml\\b', str(entry))\n",
    "    xml_files.extend(found)\n",
    "\n",
    "xml_files = sorted(set(xml_files))\n",
    "xml_files[:5]"
   ]
  },
  {
   "cell_type": "code",
   "execution_count": null,
   "id": "68061f37-3539-4e87-b742-ced539130b81",
   "metadata": {},
   "outputs": [],
   "source": [
    "# df['Strain_cleaned'] = df['Strain'].str.replace('.xml', '', regex=False)\n",
    "\n",
    "\n",
    "base_url = \"https://www.vmh.life/_api/microbes/?reconstruction=\"\n",
    "\n",
    "def get_ncbiid(strain):\n",
    "    response = requests.get(base_url + strain)\n",
    "    if response.status_code == 200:\n",
    "        data = response.json()\n",
    "        if data.get(\"results\"):\n",
    "            return data[\"results\"][0].get(\"ncbiid\")"
   ]
  },
  {
   "cell_type": "code",
   "execution_count": null,
   "id": "b37346a0-4d36-41a6-b007-4530363dba2b",
   "metadata": {},
   "outputs": [],
   "source": [
    "xml_df = pd.DataFrame(xml_files, columns=['XML File'])\n",
    "xml_df['strain_name'] = xml_df['XML File'].str.replace('.xml', '', regex=False)\n"
   ]
  },
  {
   "cell_type": "code",
   "execution_count": null,
   "id": "55aeb21f-a65f-40d3-82b3-5bb82cacd1c6",
   "metadata": {},
   "outputs": [],
   "source": [
    "xml_df['strain_name'][0]"
   ]
  },
  {
   "cell_type": "code",
   "execution_count": null,
   "id": "fe90a156-af46-44f4-98ad-8711812091f9",
   "metadata": {},
   "outputs": [],
   "source": [
    "a= get_ncbiid(xml_df['strain_name'][0])\n",
    "print(a)"
   ]
  },
  {
   "cell_type": "code",
   "execution_count": null,
   "id": "dacbdea5-4441-47b7-a426-100310e92fb7",
   "metadata": {},
   "outputs": [],
   "source": [
    "xml_df.head()"
   ]
  },
  {
   "cell_type": "code",
   "execution_count": null,
   "id": "173343b3-4d84-418a-bb97-d79afadeaaba",
   "metadata": {},
   "outputs": [],
   "source": [
    "xml_df['ncbiid'] = xml_df['strain_name'].apply(get_ncbiid)"
   ]
  },
  {
   "cell_type": "code",
   "execution_count": null,
   "id": "4196d33c-b9b1-453e-b83a-1e971f04edbc",
   "metadata": {},
   "outputs": [],
   "source": [
    "xml_df.head()"
   ]
  },
  {
   "cell_type": "code",
   "execution_count": null,
   "id": "5f570d02-6b46-4460-a9fd-4f21c8bd7417",
   "metadata": {},
   "outputs": [],
   "source": [
    "path = \"/home/aac/Mohammad/GNN/MetaBiomeX-main/data/strain_with_NCBIids.csv\"\n",
    "xml_df.to_csv(path, index=False)"
   ]
  },
  {
   "cell_type": "markdown",
   "id": "6304f3a0-4496-4790-a8e6-dd4f551aa202",
   "metadata": {},
   "source": [
    "# Fetch Pr. seqs"
   ]
  },
  {
   "cell_type": "code",
   "execution_count": null,
   "id": "5c207afe-bc8e-40d7-b7fa-745a7bfc1e6b",
   "metadata": {},
   "outputs": [],
   "source": [
    "import pandas as pd\n",
    "xml_df= pd.read_csv(\"/home/aac/Mohammad/GNN/MetaBiomeX-main/data/strain_with_NCBIids.csv\")"
   ]
  },
  {
   "cell_type": "code",
   "execution_count": null,
   "id": "bb1ea0bb-8923-4b14-bf10-9665cdb84b0e",
   "metadata": {},
   "outputs": [],
   "source": [
    "ncbi_ids = xml_df['ncbiid']#.dropna().unique()"
   ]
  },
  {
   "cell_type": "code",
   "execution_count": null,
   "id": "ded99081-1de5-4a3b-bc81-282486a1e175",
   "metadata": {},
   "outputs": [
    {
     "name": "stderr",
     "output_type": "stream",
     "text": [
      "100%|██████████| 10/10 [01:01<00:00,  6.13s/it]\n"
     ]
    }
   ],
   "source": [
    "fetched_files = {}\n",
    "from tqdm import tqdm\n",
    "for taxon_id in tqdm(ncbi_ids[130:140]):\n",
    "    # print(f\"fetching: {taxon_id}\")\n",
    "    try:\n",
    "        file_path = fetch_pr(taxon_id=int(taxon_id), reviewed=False)\n",
    "        if file_path:\n",
    "            fetched_files[taxon_id] = file_path\n",
    "            # print('done')\n",
    "    except Exception as e:\n",
    "        fetched_files[taxon_id] = f\"Error: {str(e)}\"\n",
    "        print('failed')\n",
    "\n"
   ]
  },
  {
   "cell_type": "code",
   "execution_count": null,
   "id": "7845db09-500b-4b23-8b27-78fd8f6325a1",
   "metadata": {},
   "outputs": [],
   "source": [
    "ncbi_ids[130:140]"
   ]
  },
  {
   "cell_type": "markdown",
   "id": "5b3eeb5d",
   "metadata": {},
   "source": [
    "## Number of Downloaded sequences"
   ]
  },
  {
   "cell_type": "code",
   "execution_count": null,
   "id": "57778289",
   "metadata": {},
   "outputs": [],
   "source": [
    "import os\n",
    "import glob\n",
    "from Bio import SeqIO\n",
    "from tqdm import tqdm\n",
    "import multiprocessing as mp\n",
    "\n",
    "empty_fasta = []\n",
    "def process_fasta(file_path):\n",
    "    \"\"\"\n",
    "    Process a single FASTA file:\n",
    "    - Count sequences\n",
    "    - Determine the min and max sequence lengths in the file\n",
    "    \"\"\"\n",
    "    total = 0\n",
    "    min_length = float('inf')\n",
    "    max_length = 0\n",
    "    \n",
    "    # Parse each record in the FASTA file\n",
    "    for record in SeqIO.parse(file_path, \"fasta\"):\n",
    "        seq_len = len(record.seq)\n",
    "        total += 1\n",
    "        if seq_len < min_length:\n",
    "            min_length = seq_len\n",
    "        if seq_len > max_length:\n",
    "            max_length = seq_len\n",
    "            \n",
    "    # Handle files that might be empty\n",
    "    if total == 0:\n",
    "        min_length = 0\n",
    "        \n",
    "    return total, min_length, max_length,file_path\n",
    "\n",
    "if __name__ == \"__main__\":\n",
    "    # Specify the directory containing the FASTA files\n",
    "    directory = \"/home/aac/Mohammad/GNN/MetaBiomeX-main/data/fastas\"  # change this to your directory path\n",
    "    # Gather all FASTA files (adjust the pattern if your file extension differs)\n",
    "    fasta_files = glob.glob(os.path.join(directory, \"*.fasta\"))\n",
    "    \n",
    "    total_sequences = 0\n",
    "    overall_min = float('inf')\n",
    "    overall_max = 0\n",
    "\n",
    "    # Use a multiprocessing Pool to process the FASTA files concurrently\n",
    "    with mp.Pool() as pool:\n",
    "        # Use tqdm to track progress of the multiprocessing jobs\n",
    "        results = list(tqdm(pool.imap_unordered(process_fasta, fasta_files),\n",
    "                            total=len(fasta_files),\n",
    "                            desc=\"Processing FASTA files\"))\n",
    "    \n",
    "    # Combine the results from each file\n",
    "    for total, min_length, max_length,path in results:\n",
    "        if total ==0:\n",
    "            empty_fasta.append(path)\n",
    "        total_sequences += total\n",
    "        overall_min = min(overall_min, min_length)\n",
    "        overall_max = max(overall_max, max_length)\n",
    "    \n",
    "    # If no sequences were found overall, adjust the minimum length\n",
    "    if overall_min == float('inf'):\n",
    "        overall_min = 0\n",
    "\n",
    "    print(\"Total sequences:\", total_sequences)\n",
    "    print(\"Min sequence length:\", overall_min)\n",
    "    print(\"Max sequence length:\", overall_max)\n"
   ]
  },
  {
   "cell_type": "code",
   "execution_count": null,
   "id": "7c1889d3",
   "metadata": {},
   "outputs": [],
   "source": [
    "empty_ids = ([int(w.replace('.fasta','').split('_')[-1]) for w in empty_fasta])\n",
    "len(empty_ids)"
   ]
  },
  {
   "cell_type": "markdown",
   "id": "2e969446",
   "metadata": {},
   "source": [
    "# Redownload empty ones"
   ]
  },
  {
   "cell_type": "code",
   "execution_count": null,
   "id": "a8b4b3b0",
   "metadata": {},
   "outputs": [],
   "source": [
    "fetched_files = {}\n",
    "from tqdm import tqdm\n",
    "for taxon_id in tqdm(empty_ids):\n",
    "    # print(f\"fetching: {taxon_id}\")\n",
    "    try:\n",
    "        file_path = fetch_pr(taxon_id=int(taxon_id), reviewed=False)\n",
    "        if file_path:\n",
    "            fetched_files[taxon_id] = file_path\n",
    "            # print('done')\n",
    "    except Exception as e:\n",
    "        fetched_files[taxon_id] = f\"Error: {str(e)}\"\n",
    "        print('failed')"
   ]
  },
  {
   "cell_type": "code",
   "execution_count": null,
   "id": "97d3b60b",
   "metadata": {},
   "outputs": [],
   "source": [
    "empty_ids"
   ]
  },
  {
   "cell_type": "markdown",
   "id": "a40acaff-45d5-466a-bf8d-e75e38bdf692",
   "metadata": {},
   "source": [
    "# Start from here ::::::::::::"
   ]
  },
  {
   "cell_type": "code",
   "execution_count": 21,
   "id": "4f40986b-c05a-440c-8f78-c3886e0d4c45",
   "metadata": {},
   "outputs": [],
   "source": [
    "node_map = pd.read_csv('anaerobic_strains_map.csv')"
   ]
  },
  {
   "cell_type": "code",
   "execution_count": 20,
   "id": "93faee97-d59b-428f-be18-3d36b500b10a",
   "metadata": {},
   "outputs": [],
   "source": [
    "# node_map.head()"
   ]
  },
  {
   "cell_type": "code",
   "execution_count": 22,
   "id": "c60850af-f6e5-4cfb-9c35-a56f38802d9a",
   "metadata": {},
   "outputs": [
    {
     "data": {
      "text/html": [
       "<div>\n",
       "<style scoped>\n",
       "    .dataframe tbody tr th:only-of-type {\n",
       "        vertical-align: middle;\n",
       "    }\n",
       "\n",
       "    .dataframe tbody tr th {\n",
       "        vertical-align: top;\n",
       "    }\n",
       "\n",
       "    .dataframe thead th {\n",
       "        text-align: right;\n",
       "    }\n",
       "</style>\n",
       "<table border=\"1\" class=\"dataframe\">\n",
       "  <thead>\n",
       "    <tr style=\"text-align: right;\">\n",
       "      <th></th>\n",
       "      <th>Unnamed: 0</th>\n",
       "      <th>XML File</th>\n",
       "      <th>strain_name</th>\n",
       "      <th>ncbiid</th>\n",
       "      <th>ID</th>\n",
       "      <th>Strain</th>\n",
       "      <th>Anaerobic</th>\n",
       "    </tr>\n",
       "  </thead>\n",
       "  <tbody>\n",
       "    <tr>\n",
       "      <th>29</th>\n",
       "      <td>29</td>\n",
       "      <td>Bifidobacterium_adolescentis_ATCC_15703.xml</td>\n",
       "      <td>Bifidobacterium_adolescentis_ATCC_15703</td>\n",
       "      <td>367928</td>\n",
       "      <td>812</td>\n",
       "      <td>Bifidobacterium_adolescentis_ATCC_15703.xml</td>\n",
       "      <td>1</td>\n",
       "    </tr>\n",
       "  </tbody>\n",
       "</table>\n",
       "</div>"
      ],
      "text/plain": [
       "    Unnamed: 0                                     XML File  \\\n",
       "29          29  Bifidobacterium_adolescentis_ATCC_15703.xml   \n",
       "\n",
       "                                strain_name  ncbiid   ID  \\\n",
       "29  Bifidobacterium_adolescentis_ATCC_15703  367928  812   \n",
       "\n",
       "                                         Strain  Anaerobic  \n",
       "29  Bifidobacterium_adolescentis_ATCC_15703.xml          1  "
      ]
     },
     "execution_count": 22,
     "metadata": {},
     "output_type": "execute_result"
    }
   ],
   "source": [
    "node_map[node_map['ID'] == 812]\n"
   ]
  },
  {
   "cell_type": "code",
   "execution_count": 23,
   "id": "7dddda2f",
   "metadata": {},
   "outputs": [],
   "source": [
    "nodes = [int(x) for x in ['812', '383', '44', '334', '422', '444', '477', '534', '399', '302',\n",
    "                  '141', '129', '752', '21', '268', '484', '23', '224', '78', '641',\n",
    "                  '548', '549', '34', '528', '143', '118', '152', '343', '123', '72',\n",
    "                  '239', '688', '150', '467', '164', '562', '13', '276', '203', '104',\n",
    "                  '645', '530', '131', '24', '664', '529', '431', '209', '350', '502',\n",
    "                  '540', '315', '19', '271', '119', '12', '331', '304', '349', '456',\n",
    "                  '751', '200', '67', '792', '395', '656', '55', '174', '788', '192',\n",
    "                  '782', '489', '326', '538', '503']]\n",
    "\n",
    "final_nodes = node_map[node_map['ID'].isin(nodes)]\n",
    "\n",
    "    \n"
   ]
  },
  {
   "cell_type": "code",
   "execution_count": 25,
   "id": "7e110377-6670-4461-9ebb-e5a3cdecb4d1",
   "metadata": {},
   "outputs": [
    {
     "data": {
      "text/plain": [
       "(75, 7)"
      ]
     },
     "execution_count": 25,
     "metadata": {},
     "output_type": "execute_result"
    }
   ],
   "source": [
    "final_nodes.shape # should be (75 in 7)"
   ]
  },
  {
   "cell_type": "code",
   "execution_count": 26,
   "id": "2b8ca50b-4507-46bd-aecb-30f12bfd90bb",
   "metadata": {},
   "outputs": [],
   "source": [
    "import numpy as np\n",
    "import time"
   ]
  },
  {
   "cell_type": "code",
   "execution_count": 27,
   "id": "098a7f7b-b327-48a4-ab51-93122b72081b",
   "metadata": {},
   "outputs": [],
   "source": [
    "empty_ids=[469617,\n",
    " 273526,\n",
    " 440497,\n",
    " 702444,\n",
    " 1235815,\n",
    " 435837,\n",
    " 888048,\n",
    " 457424,\n",
    " 563194,\n",
    " 575595,\n",
    " 1121102,\n",
    " 1215915,\n",
    " 1400136,\n",
    " 742820,\n",
    " 1328388,\n",
    " 411901,\n",
    " 1262650,\n",
    " 525337,\n",
    " 1328337,\n",
    " 469599,\n",
    " 888727,\n",
    " 702443,\n",
    " 1322347,\n",
    " 411487,\n",
    " 469602,\n",
    " 536233,\n",
    " 649757,\n",
    " 1353979,\n",
    " 663952,\n",
    " 1121342,\n",
    " 469618,\n",
    " 657324,\n",
    " 1035196,\n",
    " 1122982,\n",
    " 525279,\n",
    " 871541,\n",
    " 1440052,\n",
    " 1316931,\n",
    " 469616,\n",
    " 469603,\n",
    " 883166,\n",
    " 657316,\n",
    " 1121445,\n",
    " 944562,\n",
    " 1203540,\n",
    " 562982,\n",
    " 1437595,\n",
    " 1074451,\n",
    " 469615,\n",
    " 1384484]"
   ]
  },
  {
   "cell_type": "code",
   "execution_count": 28,
   "id": "2c8efcab-ef9c-402a-8662-f093485d2883",
   "metadata": {},
   "outputs": [],
   "source": [
    "empty_ids_inNodes = node_map[node_map['ncbiid'].isin(np.array(empty_ids))]"
   ]
  },
  {
   "cell_type": "code",
   "execution_count": 30,
   "id": "c9ccaa98-f3ae-4462-b604-cd00cf82cd6c",
   "metadata": {},
   "outputs": [
    {
     "data": {
      "text/plain": [
       "(50, 7)"
      ]
     },
     "execution_count": 30,
     "metadata": {},
     "output_type": "execute_result"
    }
   ],
   "source": [
    "empty_ids_inNodes.shape # should be (50 in 7)"
   ]
  },
  {
   "cell_type": "code",
   "execution_count": 32,
   "id": "4a60c88c-cac0-4262-a8fc-4f957707726e",
   "metadata": {},
   "outputs": [
    {
     "data": {
      "text/html": [
       "<div>\n",
       "<style scoped>\n",
       "    .dataframe tbody tr th:only-of-type {\n",
       "        vertical-align: middle;\n",
       "    }\n",
       "\n",
       "    .dataframe tbody tr th {\n",
       "        vertical-align: top;\n",
       "    }\n",
       "\n",
       "    .dataframe thead th {\n",
       "        text-align: right;\n",
       "    }\n",
       "</style>\n",
       "<table border=\"1\" class=\"dataframe\">\n",
       "  <thead>\n",
       "    <tr style=\"text-align: right;\">\n",
       "      <th></th>\n",
       "      <th>Unnamed: 0</th>\n",
       "      <th>XML File</th>\n",
       "      <th>strain_name</th>\n",
       "      <th>ncbiid</th>\n",
       "      <th>ID</th>\n",
       "      <th>Strain</th>\n",
       "      <th>Anaerobic</th>\n",
       "    </tr>\n",
       "  </thead>\n",
       "  <tbody>\n",
       "    <tr>\n",
       "      <th>4</th>\n",
       "      <td>4</td>\n",
       "      <td>Actinomyces_oris_K20.xml</td>\n",
       "      <td>Actinomyces_oris_K20</td>\n",
       "      <td>871541</td>\n",
       "      <td>278</td>\n",
       "      <td>Actinomyces_oris_K20.xml</td>\n",
       "      <td>1</td>\n",
       "    </tr>\n",
       "    <tr>\n",
       "      <th>5</th>\n",
       "      <td>5</td>\n",
       "      <td>Adlercreutzia_equolifaciens_DSM_19450.xml</td>\n",
       "      <td>Adlercreutzia_equolifaciens_DSM_19450</td>\n",
       "      <td>1384484</td>\n",
       "      <td>224</td>\n",
       "      <td>Adlercreutzia_equolifaciens_DSM_19450.xml</td>\n",
       "      <td>1</td>\n",
       "    </tr>\n",
       "    <tr>\n",
       "      <th>11</th>\n",
       "      <td>11</td>\n",
       "      <td>Anaerostipes_hadrus_DSM_3319.xml</td>\n",
       "      <td>Anaerostipes_hadrus_DSM_3319</td>\n",
       "      <td>649757</td>\n",
       "      <td>143</td>\n",
       "      <td>Anaerostipes_hadrus_DSM_3319.xml</td>\n",
       "      <td>1</td>\n",
       "    </tr>\n",
       "    <tr>\n",
       "      <th>14</th>\n",
       "      <td>14</td>\n",
       "      <td>Bacteroides_caccae_ATCC_43185.xml</td>\n",
       "      <td>Bacteroides_caccae_ATCC_43185</td>\n",
       "      <td>411901</td>\n",
       "      <td>399</td>\n",
       "      <td>Bacteroides_caccae_ATCC_43185.xml</td>\n",
       "      <td>1</td>\n",
       "    </tr>\n",
       "    <tr>\n",
       "      <th>17</th>\n",
       "      <td>17</td>\n",
       "      <td>Bacteroides_fragilis_3_1_12.xml</td>\n",
       "      <td>Bacteroides_fragilis_3_1_12</td>\n",
       "      <td>457424</td>\n",
       "      <td>34</td>\n",
       "      <td>Bacteroides_fragilis_3_1_12.xml</td>\n",
       "      <td>1</td>\n",
       "    </tr>\n",
       "  </tbody>\n",
       "</table>\n",
       "</div>"
      ],
      "text/plain": [
       "    Unnamed: 0                                   XML File  \\\n",
       "4            4                   Actinomyces_oris_K20.xml   \n",
       "5            5  Adlercreutzia_equolifaciens_DSM_19450.xml   \n",
       "11          11           Anaerostipes_hadrus_DSM_3319.xml   \n",
       "14          14          Bacteroides_caccae_ATCC_43185.xml   \n",
       "17          17            Bacteroides_fragilis_3_1_12.xml   \n",
       "\n",
       "                              strain_name   ncbiid   ID  \\\n",
       "4                    Actinomyces_oris_K20   871541  278   \n",
       "5   Adlercreutzia_equolifaciens_DSM_19450  1384484  224   \n",
       "11           Anaerostipes_hadrus_DSM_3319   649757  143   \n",
       "14          Bacteroides_caccae_ATCC_43185   411901  399   \n",
       "17            Bacteroides_fragilis_3_1_12   457424   34   \n",
       "\n",
       "                                       Strain  Anaerobic  \n",
       "4                    Actinomyces_oris_K20.xml          1  \n",
       "5   Adlercreutzia_equolifaciens_DSM_19450.xml          1  \n",
       "11           Anaerostipes_hadrus_DSM_3319.xml          1  \n",
       "14          Bacteroides_caccae_ATCC_43185.xml          1  \n",
       "17            Bacteroides_fragilis_3_1_12.xml          1  "
      ]
     },
     "execution_count": 32,
     "metadata": {},
     "output_type": "execute_result"
    }
   ],
   "source": [
    "empty_ids_inNodes.head()"
   ]
  },
  {
   "cell_type": "code",
   "execution_count": 34,
   "id": "f9c89247-0670-4b61-a12b-432109184821",
   "metadata": {},
   "outputs": [
    {
     "name": "stdout",
     "output_type": "stream",
     "text": [
      "\n",
      "Searching NCBI protein database for Taxonomy ID: 871541\n",
      "found 4355 pr records\n"
     ]
    },
    {
     "ename": "KeyboardInterrupt",
     "evalue": "",
     "output_type": "error",
     "traceback": [
      "\u001b[0;31m---------------------------------------------------------------------------\u001b[0m",
      "\u001b[0;31mKeyboardInterrupt\u001b[0m                         Traceback (most recent call last)",
      "Cell \u001b[0;32mIn[34], line 31\u001b[0m\n\u001b[1;32m     29\u001b[0m id_batch \u001b[38;5;241m=\u001b[39m ids[start:end]\n\u001b[1;32m     30\u001b[0m fetch_handle \u001b[38;5;241m=\u001b[39m Entrez\u001b[38;5;241m.\u001b[39mefetch(db\u001b[38;5;241m=\u001b[39m\u001b[38;5;124m\"\u001b[39m\u001b[38;5;124mprotein\u001b[39m\u001b[38;5;124m\"\u001b[39m, \u001b[38;5;28mid\u001b[39m\u001b[38;5;241m=\u001b[39mid_batch, rettype\u001b[38;5;241m=\u001b[39m\u001b[38;5;124m\"\u001b[39m\u001b[38;5;124mfasta\u001b[39m\u001b[38;5;124m\"\u001b[39m, retmode\u001b[38;5;241m=\u001b[39m\u001b[38;5;124m\"\u001b[39m\u001b[38;5;124mtext\u001b[39m\u001b[38;5;124m\"\u001b[39m)\n\u001b[0;32m---> 31\u001b[0m data \u001b[38;5;241m=\u001b[39m \u001b[43mfetch_handle\u001b[49m\u001b[38;5;241;43m.\u001b[39;49m\u001b[43mread\u001b[49m\u001b[43m(\u001b[49m\u001b[43m)\u001b[49m\n\u001b[1;32m     32\u001b[0m fetch_handle\u001b[38;5;241m.\u001b[39mclose()\n\u001b[1;32m     33\u001b[0m out_f\u001b[38;5;241m.\u001b[39mwrite(data)\n",
      "File \u001b[0;32m/usr/lib/python3.10/http/client.py:460\u001b[0m, in \u001b[0;36mHTTPResponse.read\u001b[0;34m(self, amt)\u001b[0m\n\u001b[1;32m    457\u001b[0m     \u001b[38;5;28;01mreturn\u001b[39;00m \u001b[38;5;124mb\u001b[39m\u001b[38;5;124m\"\u001b[39m\u001b[38;5;124m\"\u001b[39m\n\u001b[1;32m    459\u001b[0m \u001b[38;5;28;01mif\u001b[39;00m \u001b[38;5;28mself\u001b[39m\u001b[38;5;241m.\u001b[39mchunked:\n\u001b[0;32m--> 460\u001b[0m     \u001b[38;5;28;01mreturn\u001b[39;00m \u001b[38;5;28;43mself\u001b[39;49m\u001b[38;5;241;43m.\u001b[39;49m\u001b[43m_read_chunked\u001b[49m\u001b[43m(\u001b[49m\u001b[43mamt\u001b[49m\u001b[43m)\u001b[49m\n\u001b[1;32m    462\u001b[0m \u001b[38;5;28;01mif\u001b[39;00m amt \u001b[38;5;129;01mis\u001b[39;00m \u001b[38;5;129;01mnot\u001b[39;00m \u001b[38;5;28;01mNone\u001b[39;00m:\n\u001b[1;32m    463\u001b[0m     \u001b[38;5;28;01mif\u001b[39;00m \u001b[38;5;28mself\u001b[39m\u001b[38;5;241m.\u001b[39mlength \u001b[38;5;129;01mis\u001b[39;00m \u001b[38;5;129;01mnot\u001b[39;00m \u001b[38;5;28;01mNone\u001b[39;00m \u001b[38;5;129;01mand\u001b[39;00m amt \u001b[38;5;241m>\u001b[39m \u001b[38;5;28mself\u001b[39m\u001b[38;5;241m.\u001b[39mlength:\n\u001b[1;32m    464\u001b[0m         \u001b[38;5;66;03m# clip the read to the \"end of response\"\u001b[39;00m\n",
      "File \u001b[0;32m/usr/lib/python3.10/http/client.py:583\u001b[0m, in \u001b[0;36mHTTPResponse._read_chunked\u001b[0;34m(self, amt)\u001b[0m\n\u001b[1;32m    581\u001b[0m \u001b[38;5;28;01mtry\u001b[39;00m:\n\u001b[1;32m    582\u001b[0m     \u001b[38;5;28;01mwhile\u001b[39;00m \u001b[38;5;28;01mTrue\u001b[39;00m:\n\u001b[0;32m--> 583\u001b[0m         chunk_left \u001b[38;5;241m=\u001b[39m \u001b[38;5;28;43mself\u001b[39;49m\u001b[38;5;241;43m.\u001b[39;49m\u001b[43m_get_chunk_left\u001b[49m\u001b[43m(\u001b[49m\u001b[43m)\u001b[49m\n\u001b[1;32m    584\u001b[0m         \u001b[38;5;28;01mif\u001b[39;00m chunk_left \u001b[38;5;129;01mis\u001b[39;00m \u001b[38;5;28;01mNone\u001b[39;00m:\n\u001b[1;32m    585\u001b[0m             \u001b[38;5;28;01mbreak\u001b[39;00m\n",
      "File \u001b[0;32m/usr/lib/python3.10/http/client.py:566\u001b[0m, in \u001b[0;36mHTTPResponse._get_chunk_left\u001b[0;34m(self)\u001b[0m\n\u001b[1;32m    564\u001b[0m     \u001b[38;5;28mself\u001b[39m\u001b[38;5;241m.\u001b[39m_safe_read(\u001b[38;5;241m2\u001b[39m)  \u001b[38;5;66;03m# toss the CRLF at the end of the chunk\u001b[39;00m\n\u001b[1;32m    565\u001b[0m \u001b[38;5;28;01mtry\u001b[39;00m:\n\u001b[0;32m--> 566\u001b[0m     chunk_left \u001b[38;5;241m=\u001b[39m \u001b[38;5;28;43mself\u001b[39;49m\u001b[38;5;241;43m.\u001b[39;49m\u001b[43m_read_next_chunk_size\u001b[49m\u001b[43m(\u001b[49m\u001b[43m)\u001b[49m\n\u001b[1;32m    567\u001b[0m \u001b[38;5;28;01mexcept\u001b[39;00m \u001b[38;5;167;01mValueError\u001b[39;00m:\n\u001b[1;32m    568\u001b[0m     \u001b[38;5;28;01mraise\u001b[39;00m IncompleteRead(\u001b[38;5;124mb\u001b[39m\u001b[38;5;124m'\u001b[39m\u001b[38;5;124m'\u001b[39m)\n",
      "File \u001b[0;32m/usr/lib/python3.10/http/client.py:526\u001b[0m, in \u001b[0;36mHTTPResponse._read_next_chunk_size\u001b[0;34m(self)\u001b[0m\n\u001b[1;32m    524\u001b[0m \u001b[38;5;28;01mdef\u001b[39;00m \u001b[38;5;21m_read_next_chunk_size\u001b[39m(\u001b[38;5;28mself\u001b[39m):\n\u001b[1;32m    525\u001b[0m     \u001b[38;5;66;03m# Read the next chunk size from the file\u001b[39;00m\n\u001b[0;32m--> 526\u001b[0m     line \u001b[38;5;241m=\u001b[39m \u001b[38;5;28;43mself\u001b[39;49m\u001b[38;5;241;43m.\u001b[39;49m\u001b[43mfp\u001b[49m\u001b[38;5;241;43m.\u001b[39;49m\u001b[43mreadline\u001b[49m\u001b[43m(\u001b[49m\u001b[43m_MAXLINE\u001b[49m\u001b[43m \u001b[49m\u001b[38;5;241;43m+\u001b[39;49m\u001b[43m \u001b[49m\u001b[38;5;241;43m1\u001b[39;49m\u001b[43m)\u001b[49m\n\u001b[1;32m    527\u001b[0m     \u001b[38;5;28;01mif\u001b[39;00m \u001b[38;5;28mlen\u001b[39m(line) \u001b[38;5;241m>\u001b[39m _MAXLINE:\n\u001b[1;32m    528\u001b[0m         \u001b[38;5;28;01mraise\u001b[39;00m LineTooLong(\u001b[38;5;124m\"\u001b[39m\u001b[38;5;124mchunk size\u001b[39m\u001b[38;5;124m\"\u001b[39m)\n",
      "File \u001b[0;32m/usr/lib/python3.10/socket.py:717\u001b[0m, in \u001b[0;36mSocketIO.readinto\u001b[0;34m(self, b)\u001b[0m\n\u001b[1;32m    715\u001b[0m \u001b[38;5;28;01mwhile\u001b[39;00m \u001b[38;5;28;01mTrue\u001b[39;00m:\n\u001b[1;32m    716\u001b[0m     \u001b[38;5;28;01mtry\u001b[39;00m:\n\u001b[0;32m--> 717\u001b[0m         \u001b[38;5;28;01mreturn\u001b[39;00m \u001b[38;5;28;43mself\u001b[39;49m\u001b[38;5;241;43m.\u001b[39;49m\u001b[43m_sock\u001b[49m\u001b[38;5;241;43m.\u001b[39;49m\u001b[43mrecv_into\u001b[49m\u001b[43m(\u001b[49m\u001b[43mb\u001b[49m\u001b[43m)\u001b[49m\n\u001b[1;32m    718\u001b[0m     \u001b[38;5;28;01mexcept\u001b[39;00m timeout:\n\u001b[1;32m    719\u001b[0m         \u001b[38;5;28mself\u001b[39m\u001b[38;5;241m.\u001b[39m_timeout_occurred \u001b[38;5;241m=\u001b[39m \u001b[38;5;28;01mTrue\u001b[39;00m\n",
      "File \u001b[0;32m/usr/lib/python3.10/ssl.py:1307\u001b[0m, in \u001b[0;36mSSLSocket.recv_into\u001b[0;34m(self, buffer, nbytes, flags)\u001b[0m\n\u001b[1;32m   1303\u001b[0m     \u001b[38;5;28;01mif\u001b[39;00m flags \u001b[38;5;241m!=\u001b[39m \u001b[38;5;241m0\u001b[39m:\n\u001b[1;32m   1304\u001b[0m         \u001b[38;5;28;01mraise\u001b[39;00m \u001b[38;5;167;01mValueError\u001b[39;00m(\n\u001b[1;32m   1305\u001b[0m           \u001b[38;5;124m\"\u001b[39m\u001b[38;5;124mnon-zero flags not allowed in calls to recv_into() on \u001b[39m\u001b[38;5;132;01m%s\u001b[39;00m\u001b[38;5;124m\"\u001b[39m \u001b[38;5;241m%\u001b[39m\n\u001b[1;32m   1306\u001b[0m           \u001b[38;5;28mself\u001b[39m\u001b[38;5;241m.\u001b[39m\u001b[38;5;18m__class__\u001b[39m)\n\u001b[0;32m-> 1307\u001b[0m     \u001b[38;5;28;01mreturn\u001b[39;00m \u001b[38;5;28;43mself\u001b[39;49m\u001b[38;5;241;43m.\u001b[39;49m\u001b[43mread\u001b[49m\u001b[43m(\u001b[49m\u001b[43mnbytes\u001b[49m\u001b[43m,\u001b[49m\u001b[43m \u001b[49m\u001b[43mbuffer\u001b[49m\u001b[43m)\u001b[49m\n\u001b[1;32m   1308\u001b[0m \u001b[38;5;28;01melse\u001b[39;00m:\n\u001b[1;32m   1309\u001b[0m     \u001b[38;5;28;01mreturn\u001b[39;00m \u001b[38;5;28msuper\u001b[39m()\u001b[38;5;241m.\u001b[39mrecv_into(buffer, nbytes, flags)\n",
      "File \u001b[0;32m/usr/lib/python3.10/ssl.py:1163\u001b[0m, in \u001b[0;36mSSLSocket.read\u001b[0;34m(self, len, buffer)\u001b[0m\n\u001b[1;32m   1161\u001b[0m \u001b[38;5;28;01mtry\u001b[39;00m:\n\u001b[1;32m   1162\u001b[0m     \u001b[38;5;28;01mif\u001b[39;00m buffer \u001b[38;5;129;01mis\u001b[39;00m \u001b[38;5;129;01mnot\u001b[39;00m \u001b[38;5;28;01mNone\u001b[39;00m:\n\u001b[0;32m-> 1163\u001b[0m         \u001b[38;5;28;01mreturn\u001b[39;00m \u001b[38;5;28;43mself\u001b[39;49m\u001b[38;5;241;43m.\u001b[39;49m\u001b[43m_sslobj\u001b[49m\u001b[38;5;241;43m.\u001b[39;49m\u001b[43mread\u001b[49m\u001b[43m(\u001b[49m\u001b[38;5;28;43mlen\u001b[39;49m\u001b[43m,\u001b[49m\u001b[43m \u001b[49m\u001b[43mbuffer\u001b[49m\u001b[43m)\u001b[49m\n\u001b[1;32m   1164\u001b[0m     \u001b[38;5;28;01melse\u001b[39;00m:\n\u001b[1;32m   1165\u001b[0m         \u001b[38;5;28;01mreturn\u001b[39;00m \u001b[38;5;28mself\u001b[39m\u001b[38;5;241m.\u001b[39m_sslobj\u001b[38;5;241m.\u001b[39mread(\u001b[38;5;28mlen\u001b[39m)\n",
      "\u001b[0;31mKeyboardInterrupt\u001b[0m: "
     ]
    }
   ],
   "source": [
    "from Bio import Entrez\n",
    "import time\n",
    "\n",
    "Entrez.email = \"javadamn@gmail.com\" \n",
    "\n",
    "taxonomy_ids = empty_ids_inNodes['ncbiid'] #['1074451', '649757']\n",
    "\n",
    "for tax_id in taxonomy_ids:\n",
    "    print(f\"\\nSearching NCBI protein database for Taxonomy ID: {tax_id}\")\n",
    "    \n",
    "    try:\n",
    "        handle = Entrez.esearch(db=\"protein\", term=f\"txid{tax_id}[Organism:exp]\", retmax=5000)\n",
    "        record = Entrez.read(handle)\n",
    "        handle.close()\n",
    "\n",
    "        ids = record[\"IdList\"]\n",
    "\n",
    "        if not ids:\n",
    "            print(f\"No protein records {tax_id}\")\n",
    "            continue\n",
    "\n",
    "        print(f\"found {len(ids)} pr records\")\n",
    "\n",
    "        batch_size = 500 \n",
    "        filename = f\"ncbi_taxonomy_{tax_id}.fasta\"\n",
    "        with open(filename, \"w\") as out_f:\n",
    "            for start in range(0, len(ids), batch_size):\n",
    "                end = min(start + batch_size, len(ids))\n",
    "                id_batch = ids[start:end]\n",
    "                fetch_handle = Entrez.efetch(db=\"protein\", id=id_batch, rettype=\"fasta\", retmode=\"text\")\n",
    "                data = fetch_handle.read()\n",
    "                fetch_handle.close()\n",
    "                out_f.write(data)\n",
    "                time.sleep(0.5)\n",
    "\n",
    "        print(f\"Saved all seqs: {filename}\")\n",
    "\n",
    "    except Exception as e:\n",
    "        print(f\"Error processing tax id {tax_id}: {e}\")\n"
   ]
  },
  {
   "cell_type": "code",
   "execution_count": null,
   "id": "18ad4a85-1b74-4f54-b786-2d585c571c47",
   "metadata": {},
   "outputs": [],
   "source": []
  }
 ],
 "metadata": {
  "kernelspec": {
   "display_name": "benpyenv",
   "language": "python",
   "name": "benpyenv"
  },
  "language_info": {
   "codemirror_mode": {
    "name": "ipython",
    "version": 3
   },
   "file_extension": ".py",
   "mimetype": "text/x-python",
   "name": "python",
   "nbconvert_exporter": "python",
   "pygments_lexer": "ipython3",
   "version": "3.10.16"
  }
 },
 "nbformat": 4,
 "nbformat_minor": 5
}
