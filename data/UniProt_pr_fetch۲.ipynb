{
 "cells": [
  {
   "cell_type": "code",
   "execution_count": 4,
   "id": "e2af9d54-feb2-4908-be3b-99fd4fe3f84a",
   "metadata": {},
   "outputs": [],
   "source": [
    "import cobra\n",
    "import requests\n",
    "from Bio import SeqIO\n",
    "import pandas as pd\n",
    "import re"
   ]
  },
  {
   "cell_type": "code",
   "execution_count": 5,
   "id": "0157781e-0b19-4d79-9310-80863f38010e",
   "metadata": {},
   "outputs": [],
   "source": [
    "\n",
    "def fetch_pr(taxon_id, reviewed=False, format='fasta', limit=1000):\n",
    "    base_url = \"https://rest.uniprot.org/uniprotkb/stream\"\n",
    "    query = f\"organism_id:{taxon_id}\"\n",
    "    if reviewed:\n",
    "        query += \" AND reviewed:true\"\n",
    "\n",
    "    params = {\"query\": query, \"format\": format, \"size\": limit}\n",
    "\n",
    "    response = requests.get(base_url, params=params)\n",
    "    if response.status_code == 200:\n",
    "        with open(f\"/home/aac/Mohammad/GNN/MetaBiomeX-main/data/fastas/uniprot_{taxon_id}.fasta\", \"w\") as f:\n",
    "            f.write(response.text)\n",
    "        return response.text \n",
    "    else:\n",
    "        return None"
   ]
  },
  {
   "cell_type": "code",
   "execution_count": 14,
   "id": "8e092243-2192-44d2-83eb-3ccdd1c87a62",
   "metadata": {},
   "outputs": [],
   "source": [
    "models_list= pd.read_csv('/home/aac/Mohammad/GNN/MetaBiomeX-main/data/ListofModelsforSpecies.csv')"
   ]
  },
  {
   "cell_type": "code",
   "execution_count": 16,
   "id": "66eb200d-f9af-4bc5-88ba-e6f8197ec49b",
   "metadata": {
    "scrolled": true
   },
   "outputs": [
    {
     "data": {
      "text/plain": [
       "['Acidaminococcus_fermentans_DSM_20731.xml',\n",
       " 'Acidaminococcus_intestini_RyC_MR95.xml',\n",
       " 'Actinomyces_naeslundii_str_Howell_279.xml',\n",
       " 'Actinomyces_odontolyticus_ATCC_17982.xml',\n",
       " 'Actinomyces_oris_K20.xml']"
      ]
     },
     "execution_count": 16,
     "metadata": {},
     "output_type": "execute_result"
    }
   ],
   "source": [
    "xml_files = []\n",
    "\n",
    "for entry in models_list['models'].dropna():\n",
    "    found = re.findall(r'\\b[\\w\\-\\.]+\\.xml\\b', str(entry))\n",
    "    xml_files.extend(found)\n",
    "\n",
    "xml_files = sorted(set(xml_files))\n",
    "xml_files[:5]"
   ]
  },
  {
   "cell_type": "code",
   "execution_count": 18,
   "id": "68061f37-3539-4e87-b742-ced539130b81",
   "metadata": {},
   "outputs": [],
   "source": [
    "# df['Strain_cleaned'] = df['Strain'].str.replace('.xml', '', regex=False)\n",
    "\n",
    "\n",
    "base_url = \"https://www.vmh.life/_api/microbes/?reconstruction=\"\n",
    "\n",
    "def get_ncbiid(strain):\n",
    "    response = requests.get(base_url + strain)\n",
    "    if response.status_code == 200:\n",
    "        data = response.json()\n",
    "        if data.get(\"results\"):\n",
    "            return data[\"results\"][0].get(\"ncbiid\")"
   ]
  },
  {
   "cell_type": "code",
   "execution_count": 19,
   "id": "b37346a0-4d36-41a6-b007-4530363dba2b",
   "metadata": {},
   "outputs": [],
   "source": [
    "xml_df = pd.DataFrame(xml_files, columns=['XML File'])\n",
    "xml_df['strain_name'] = xml_df['XML File'].str.replace('.xml', '', regex=False)\n"
   ]
  },
  {
   "cell_type": "code",
   "execution_count": 20,
   "id": "55aeb21f-a65f-40d3-82b3-5bb82cacd1c6",
   "metadata": {},
   "outputs": [
    {
     "data": {
      "text/plain": [
       "'Acidaminococcus_fermentans_DSM_20731'"
      ]
     },
     "execution_count": 20,
     "metadata": {},
     "output_type": "execute_result"
    }
   ],
   "source": [
    "xml_df['strain_name'][0]"
   ]
  },
  {
   "cell_type": "code",
   "execution_count": 21,
   "id": "fe90a156-af46-44f4-98ad-8711812091f9",
   "metadata": {},
   "outputs": [
    {
     "name": "stdout",
     "output_type": "stream",
     "text": [
      "591001\n"
     ]
    }
   ],
   "source": [
    "a= get_ncbiid(xml_df['strain_name'][0])\n",
    "print(a)"
   ]
  },
  {
   "cell_type": "code",
   "execution_count": 22,
   "id": "dacbdea5-4441-47b7-a426-100310e92fb7",
   "metadata": {},
   "outputs": [
    {
     "data": {
      "text/html": [
       "<div>\n",
       "<style scoped>\n",
       "    .dataframe tbody tr th:only-of-type {\n",
       "        vertical-align: middle;\n",
       "    }\n",
       "\n",
       "    .dataframe tbody tr th {\n",
       "        vertical-align: top;\n",
       "    }\n",
       "\n",
       "    .dataframe thead th {\n",
       "        text-align: right;\n",
       "    }\n",
       "</style>\n",
       "<table border=\"1\" class=\"dataframe\">\n",
       "  <thead>\n",
       "    <tr style=\"text-align: right;\">\n",
       "      <th></th>\n",
       "      <th>XML File</th>\n",
       "      <th>strain_name</th>\n",
       "    </tr>\n",
       "  </thead>\n",
       "  <tbody>\n",
       "    <tr>\n",
       "      <th>0</th>\n",
       "      <td>Acidaminococcus_fermentans_DSM_20731.xml</td>\n",
       "      <td>Acidaminococcus_fermentans_DSM_20731</td>\n",
       "    </tr>\n",
       "    <tr>\n",
       "      <th>1</th>\n",
       "      <td>Acidaminococcus_intestini_RyC_MR95.xml</td>\n",
       "      <td>Acidaminococcus_intestini_RyC_MR95</td>\n",
       "    </tr>\n",
       "    <tr>\n",
       "      <th>2</th>\n",
       "      <td>Actinomyces_naeslundii_str_Howell_279.xml</td>\n",
       "      <td>Actinomyces_naeslundii_str_Howell_279</td>\n",
       "    </tr>\n",
       "    <tr>\n",
       "      <th>3</th>\n",
       "      <td>Actinomyces_odontolyticus_ATCC_17982.xml</td>\n",
       "      <td>Actinomyces_odontolyticus_ATCC_17982</td>\n",
       "    </tr>\n",
       "    <tr>\n",
       "      <th>4</th>\n",
       "      <td>Actinomyces_oris_K20.xml</td>\n",
       "      <td>Actinomyces_oris_K20</td>\n",
       "    </tr>\n",
       "  </tbody>\n",
       "</table>\n",
       "</div>"
      ],
      "text/plain": [
       "                                    XML File  \\\n",
       "0   Acidaminococcus_fermentans_DSM_20731.xml   \n",
       "1     Acidaminococcus_intestini_RyC_MR95.xml   \n",
       "2  Actinomyces_naeslundii_str_Howell_279.xml   \n",
       "3   Actinomyces_odontolyticus_ATCC_17982.xml   \n",
       "4                   Actinomyces_oris_K20.xml   \n",
       "\n",
       "                             strain_name  \n",
       "0   Acidaminococcus_fermentans_DSM_20731  \n",
       "1     Acidaminococcus_intestini_RyC_MR95  \n",
       "2  Actinomyces_naeslundii_str_Howell_279  \n",
       "3   Actinomyces_odontolyticus_ATCC_17982  \n",
       "4                   Actinomyces_oris_K20  "
      ]
     },
     "execution_count": 22,
     "metadata": {},
     "output_type": "execute_result"
    }
   ],
   "source": [
    "xml_df.head()"
   ]
  },
  {
   "cell_type": "code",
   "execution_count": 23,
   "id": "173343b3-4d84-418a-bb97-d79afadeaaba",
   "metadata": {},
   "outputs": [],
   "source": [
    "xml_df['ncbiid'] = xml_df['strain_name'].apply(get_ncbiid)"
   ]
  },
  {
   "cell_type": "code",
   "execution_count": 25,
   "id": "4196d33c-b9b1-453e-b83a-1e971f04edbc",
   "metadata": {},
   "outputs": [
    {
     "data": {
      "text/html": [
       "<div>\n",
       "<style scoped>\n",
       "    .dataframe tbody tr th:only-of-type {\n",
       "        vertical-align: middle;\n",
       "    }\n",
       "\n",
       "    .dataframe tbody tr th {\n",
       "        vertical-align: top;\n",
       "    }\n",
       "\n",
       "    .dataframe thead th {\n",
       "        text-align: right;\n",
       "    }\n",
       "</style>\n",
       "<table border=\"1\" class=\"dataframe\">\n",
       "  <thead>\n",
       "    <tr style=\"text-align: right;\">\n",
       "      <th></th>\n",
       "      <th>XML File</th>\n",
       "      <th>strain_name</th>\n",
       "      <th>ncbiid</th>\n",
       "    </tr>\n",
       "  </thead>\n",
       "  <tbody>\n",
       "    <tr>\n",
       "      <th>0</th>\n",
       "      <td>Acidaminococcus_fermentans_DSM_20731.xml</td>\n",
       "      <td>Acidaminococcus_fermentans_DSM_20731</td>\n",
       "      <td>591001</td>\n",
       "    </tr>\n",
       "    <tr>\n",
       "      <th>1</th>\n",
       "      <td>Acidaminococcus_intestini_RyC_MR95.xml</td>\n",
       "      <td>Acidaminococcus_intestini_RyC_MR95</td>\n",
       "      <td>568816</td>\n",
       "    </tr>\n",
       "    <tr>\n",
       "      <th>2</th>\n",
       "      <td>Actinomyces_naeslundii_str_Howell_279.xml</td>\n",
       "      <td>Actinomyces_naeslundii_str_Howell_279</td>\n",
       "      <td>1115803</td>\n",
       "    </tr>\n",
       "    <tr>\n",
       "      <th>3</th>\n",
       "      <td>Actinomyces_odontolyticus_ATCC_17982.xml</td>\n",
       "      <td>Actinomyces_odontolyticus_ATCC_17982</td>\n",
       "      <td>411466</td>\n",
       "    </tr>\n",
       "    <tr>\n",
       "      <th>4</th>\n",
       "      <td>Actinomyces_oris_K20.xml</td>\n",
       "      <td>Actinomyces_oris_K20</td>\n",
       "      <td>871541</td>\n",
       "    </tr>\n",
       "  </tbody>\n",
       "</table>\n",
       "</div>"
      ],
      "text/plain": [
       "                                    XML File  \\\n",
       "0   Acidaminococcus_fermentans_DSM_20731.xml   \n",
       "1     Acidaminococcus_intestini_RyC_MR95.xml   \n",
       "2  Actinomyces_naeslundii_str_Howell_279.xml   \n",
       "3   Actinomyces_odontolyticus_ATCC_17982.xml   \n",
       "4                   Actinomyces_oris_K20.xml   \n",
       "\n",
       "                             strain_name   ncbiid  \n",
       "0   Acidaminococcus_fermentans_DSM_20731   591001  \n",
       "1     Acidaminococcus_intestini_RyC_MR95   568816  \n",
       "2  Actinomyces_naeslundii_str_Howell_279  1115803  \n",
       "3   Actinomyces_odontolyticus_ATCC_17982   411466  \n",
       "4                   Actinomyces_oris_K20   871541  "
      ]
     },
     "execution_count": 25,
     "metadata": {},
     "output_type": "execute_result"
    }
   ],
   "source": [
    "xml_df.head()"
   ]
  },
  {
   "cell_type": "code",
   "execution_count": 26,
   "id": "5f570d02-6b46-4460-a9fd-4f21c8bd7417",
   "metadata": {},
   "outputs": [],
   "source": [
    "path = \"/home/aac/Mohammad/GNN/MetaBiomeX-main/data/strain_with_NCBIids.csv\"\n",
    "xml_df.to_csv(path, index=False)"
   ]
  },
  {
   "cell_type": "markdown",
   "id": "6304f3a0-4496-4790-a8e6-dd4f551aa202",
   "metadata": {},
   "source": [
    "# Fetch Pr. seqs"
   ]
  },
  {
   "cell_type": "code",
   "execution_count": 1,
   "id": "5c207afe-bc8e-40d7-b7fa-745a7bfc1e6b",
   "metadata": {},
   "outputs": [],
   "source": [
    "import pandas as pd\n",
    "xml_df= pd.read_csv(\"/home/aac/Mohammad/GNN/MetaBiomeX-main/data/strain_with_NCBIids.csv\")"
   ]
  },
  {
   "cell_type": "code",
   "execution_count": 2,
   "id": "bb1ea0bb-8923-4b14-bf10-9665cdb84b0e",
   "metadata": {},
   "outputs": [],
   "source": [
    "ncbi_ids = xml_df['ncbiid']#.dropna().unique()"
   ]
  },
  {
   "cell_type": "code",
   "execution_count": 6,
   "id": "ded99081-1de5-4a3b-bc81-282486a1e175",
   "metadata": {},
   "outputs": [
    {
     "name": "stderr",
     "output_type": "stream",
     "text": [
      "  0%|          | 0/10 [00:00<?, ?it/s]"
     ]
    },
    {
     "name": "stderr",
     "output_type": "stream",
     "text": [
      "100%|██████████| 10/10 [01:01<00:00,  6.13s/it]\n"
     ]
    }
   ],
   "source": [
    "fetched_files = {}\n",
    "from tqdm import tqdm\n",
    "for taxon_id in tqdm(ncbi_ids[130:140]):\n",
    "    # print(f\"fetching: {taxon_id}\")\n",
    "    try:\n",
    "        file_path = fetch_pr(taxon_id=int(taxon_id), reviewed=False)\n",
    "        if file_path:\n",
    "            fetched_files[taxon_id] = file_path\n",
    "            # print('done')\n",
    "    except Exception as e:\n",
    "        fetched_files[taxon_id] = f\"Error: {str(e)}\"\n",
    "        print('failed')\n",
    "\n"
   ]
  },
  {
   "cell_type": "code",
   "execution_count": 3,
   "id": "7845db09-500b-4b23-8b27-78fd8f6325a1",
   "metadata": {},
   "outputs": [
    {
     "data": {
      "text/plain": [
       "130    718252\n",
       "131    411485\n",
       "132    657322\n",
       "133    546269\n",
       "134    334413\n",
       "135    411475\n",
       "136    469605\n",
       "137    469615\n",
       "138    469616\n",
       "139    469603\n",
       "Name: ncbiid, dtype: int64"
      ]
     },
     "execution_count": 3,
     "metadata": {},
     "output_type": "execute_result"
    }
   ],
   "source": [
    "ncbi_ids[130:140]"
   ]
  },
  {
   "cell_type": "markdown",
   "id": "5b3eeb5d",
   "metadata": {},
   "source": [
    "## Number of Downloaded sequences"
   ]
  },
  {
   "cell_type": "code",
   "execution_count": 17,
   "id": "57778289",
   "metadata": {},
   "outputs": [
    {
     "name": "stderr",
     "output_type": "stream",
     "text": [
      "Processing FASTA files: 100%|██████████| 286/286 [00:00<00:00, 2091.02it/s]\n"
     ]
    },
    {
     "name": "stdout",
     "output_type": "stream",
     "text": [
      "Total sequences: 504004\n",
      "Min sequence length: 0\n",
      "Max sequence length: 9769\n"
     ]
    }
   ],
   "source": [
    "import os\n",
    "import glob\n",
    "from Bio import SeqIO\n",
    "from tqdm import tqdm\n",
    "import multiprocessing as mp\n",
    "\n",
    "empty_fasta = []\n",
    "def process_fasta(file_path):\n",
    "    \"\"\"\n",
    "    Process a single FASTA file:\n",
    "    - Count sequences\n",
    "    - Determine the min and max sequence lengths in the file\n",
    "    \"\"\"\n",
    "    total = 0\n",
    "    min_length = float('inf')\n",
    "    max_length = 0\n",
    "    \n",
    "    # Parse each record in the FASTA file\n",
    "    for record in SeqIO.parse(file_path, \"fasta\"):\n",
    "        seq_len = len(record.seq)\n",
    "        total += 1\n",
    "        if seq_len < min_length:\n",
    "            min_length = seq_len\n",
    "        if seq_len > max_length:\n",
    "            max_length = seq_len\n",
    "            \n",
    "    # Handle files that might be empty\n",
    "    if total == 0:\n",
    "        min_length = 0\n",
    "        \n",
    "    return total, min_length, max_length,file_path\n",
    "\n",
    "if __name__ == \"__main__\":\n",
    "    # Specify the directory containing the FASTA files\n",
    "    directory = \"/home/aac/Mohammad/GNN/MetaBiomeX-main/data/fastas\"  # change this to your directory path\n",
    "    # Gather all FASTA files (adjust the pattern if your file extension differs)\n",
    "    fasta_files = glob.glob(os.path.join(directory, \"*.fasta\"))\n",
    "    \n",
    "    total_sequences = 0\n",
    "    overall_min = float('inf')\n",
    "    overall_max = 0\n",
    "\n",
    "    # Use a multiprocessing Pool to process the FASTA files concurrently\n",
    "    with mp.Pool() as pool:\n",
    "        # Use tqdm to track progress of the multiprocessing jobs\n",
    "        results = list(tqdm(pool.imap_unordered(process_fasta, fasta_files),\n",
    "                            total=len(fasta_files),\n",
    "                            desc=\"Processing FASTA files\"))\n",
    "    \n",
    "    # Combine the results from each file\n",
    "    for total, min_length, max_length,path in results:\n",
    "        if total ==0:\n",
    "            empty_fasta.append(path)\n",
    "        total_sequences += total\n",
    "        overall_min = min(overall_min, min_length)\n",
    "        overall_max = max(overall_max, max_length)\n",
    "    \n",
    "    # If no sequences were found overall, adjust the minimum length\n",
    "    if overall_min == float('inf'):\n",
    "        overall_min = 0\n",
    "\n",
    "    print(\"Total sequences:\", total_sequences)\n",
    "    print(\"Min sequence length:\", overall_min)\n",
    "    print(\"Max sequence length:\", overall_max)\n"
   ]
  },
  {
   "cell_type": "code",
   "execution_count": 18,
   "id": "7c1889d3",
   "metadata": {},
   "outputs": [
    {
     "data": {
      "text/plain": [
       "50"
      ]
     },
     "execution_count": 18,
     "metadata": {},
     "output_type": "execute_result"
    }
   ],
   "source": [
    "empty_ids = ([int(w.replace('.fasta','').split('_')[-1]) for w in empty_fasta])\n",
    "len(empty_ids)"
   ]
  },
  {
   "cell_type": "markdown",
   "id": "2e969446",
   "metadata": {},
   "source": [
    "# Redownload empty ones"
   ]
  },
  {
   "cell_type": "code",
   "execution_count": 16,
   "id": "a8b4b3b0",
   "metadata": {},
   "outputs": [
    {
     "name": "stderr",
     "output_type": "stream",
     "text": [
      "100%|██████████| 50/50 [02:36<00:00,  3.12s/it]\n"
     ]
    }
   ],
   "source": [
    "fetched_files = {}\n",
    "from tqdm import tqdm\n",
    "for taxon_id in tqdm(empty_ids):\n",
    "    # print(f\"fetching: {taxon_id}\")\n",
    "    try:\n",
    "        file_path = fetch_pr(taxon_id=int(taxon_id), reviewed=False)\n",
    "        if file_path:\n",
    "            fetched_files[taxon_id] = file_path\n",
    "            # print('done')\n",
    "    except Exception as e:\n",
    "        fetched_files[taxon_id] = f\"Error: {str(e)}\"\n",
    "        print('failed')"
   ]
  },
  {
   "cell_type": "code",
   "execution_count": 19,
   "id": "97d3b60b",
   "metadata": {},
   "outputs": [
    {
     "data": {
      "text/plain": [
       "[469617,\n",
       " 273526,\n",
       " 440497,\n",
       " 702444,\n",
       " 1235815,\n",
       " 435837,\n",
       " 888048,\n",
       " 457424,\n",
       " 563194,\n",
       " 575595,\n",
       " 1121102,\n",
       " 1215915,\n",
       " 1400136,\n",
       " 742820,\n",
       " 1328388,\n",
       " 411901,\n",
       " 1262650,\n",
       " 525337,\n",
       " 1328337,\n",
       " 469599,\n",
       " 888727,\n",
       " 702443,\n",
       " 1322347,\n",
       " 411487,\n",
       " 469602,\n",
       " 536233,\n",
       " 649757,\n",
       " 1353979,\n",
       " 663952,\n",
       " 1121342,\n",
       " 469618,\n",
       " 657324,\n",
       " 1035196,\n",
       " 1122982,\n",
       " 525279,\n",
       " 871541,\n",
       " 1440052,\n",
       " 1316931,\n",
       " 469616,\n",
       " 469603,\n",
       " 883166,\n",
       " 657316,\n",
       " 1121445,\n",
       " 944562,\n",
       " 1203540,\n",
       " 562982,\n",
       " 1437595,\n",
       " 1074451,\n",
       " 469615,\n",
       " 1384484]"
      ]
     },
     "execution_count": 19,
     "metadata": {},
     "output_type": "execute_result"
    }
   ],
   "source": [
    "empty_ids"
   ]
  },
  {
   "cell_type": "code",
   "execution_count": null,
   "id": "7dddda2f",
   "metadata": {},
   "outputs": [],
   "source": []
  }
 ],
 "metadata": {
  "kernelspec": {
   "display_name": "Python 3 (ipykernel)",
   "language": "python",
   "name": "python3"
  },
  "language_info": {
   "codemirror_mode": {
    "name": "ipython",
    "version": 3
   },
   "file_extension": ".py",
   "mimetype": "text/x-python",
   "name": "python",
   "nbconvert_exporter": "python",
   "pygments_lexer": "ipython3",
   "version": "3.10.15"
  }
 },
 "nbformat": 4,
 "nbformat_minor": 5
}
